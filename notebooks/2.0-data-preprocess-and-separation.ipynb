{
 "cells": [
  {
   "cell_type": "markdown",
   "source": [
    "## Data division by train, val, test sets."
   ],
   "metadata": {
    "collapsed": false
   }
  },
  {
   "cell_type": "code",
   "execution_count": 2,
   "metadata": {
    "collapsed": true
   },
   "outputs": [],
   "source": [
    "import pandas as pd\n",
    "import numpy as np\n",
    "import warnings\n",
    "import torch\n",
    "\n",
    "torch.manual_seed(420)\n",
    "np.random.seed(420)\n",
    "warnings.filterwarnings('ignore')"
   ]
  },
  {
   "cell_type": "code",
   "execution_count": 3,
   "outputs": [],
   "source": [
    "data = pd.read_table(\"../data/raw/filtered.tsv\")"
   ],
   "metadata": {
    "collapsed": false
   }
  },
  {
   "cell_type": "code",
   "execution_count": 4,
   "outputs": [
    {
     "data": {
      "text/plain": "   Unnamed: 0                                          reference  \\\n0           0  If Alkar is flooding her with psychic waste, t...   \n1           1                          Now you're getting nasty.   \n2           2           Well, we could spare your life, for one.   \n3           3          Ah! Monkey, you've got to snap out of it.   \n4           4                   I've got orders to put her down.   \n\n                                         translation  similarity  lenght_diff  \\\n0  if Alkar floods her with her mental waste, it ...    0.785171     0.010309   \n1                        you're becoming disgusting.    0.749687     0.071429   \n2                      well, we can spare your life.    0.919051     0.268293   \n3                       monkey, you have to wake up.    0.664333     0.309524   \n4                         I have orders to kill her.    0.726639     0.181818   \n\n    ref_tox   trn_tox  \n0  0.014195  0.981983  \n1  0.065473  0.999039  \n2  0.213313  0.985068  \n3  0.053362  0.994215  \n4  0.009402  0.999348  ",
      "text/html": "<div>\n<style scoped>\n    .dataframe tbody tr th:only-of-type {\n        vertical-align: middle;\n    }\n\n    .dataframe tbody tr th {\n        vertical-align: top;\n    }\n\n    .dataframe thead th {\n        text-align: right;\n    }\n</style>\n<table border=\"1\" class=\"dataframe\">\n  <thead>\n    <tr style=\"text-align: right;\">\n      <th></th>\n      <th>Unnamed: 0</th>\n      <th>reference</th>\n      <th>translation</th>\n      <th>similarity</th>\n      <th>lenght_diff</th>\n      <th>ref_tox</th>\n      <th>trn_tox</th>\n    </tr>\n  </thead>\n  <tbody>\n    <tr>\n      <th>0</th>\n      <td>0</td>\n      <td>If Alkar is flooding her with psychic waste, t...</td>\n      <td>if Alkar floods her with her mental waste, it ...</td>\n      <td>0.785171</td>\n      <td>0.010309</td>\n      <td>0.014195</td>\n      <td>0.981983</td>\n    </tr>\n    <tr>\n      <th>1</th>\n      <td>1</td>\n      <td>Now you're getting nasty.</td>\n      <td>you're becoming disgusting.</td>\n      <td>0.749687</td>\n      <td>0.071429</td>\n      <td>0.065473</td>\n      <td>0.999039</td>\n    </tr>\n    <tr>\n      <th>2</th>\n      <td>2</td>\n      <td>Well, we could spare your life, for one.</td>\n      <td>well, we can spare your life.</td>\n      <td>0.919051</td>\n      <td>0.268293</td>\n      <td>0.213313</td>\n      <td>0.985068</td>\n    </tr>\n    <tr>\n      <th>3</th>\n      <td>3</td>\n      <td>Ah! Monkey, you've got to snap out of it.</td>\n      <td>monkey, you have to wake up.</td>\n      <td>0.664333</td>\n      <td>0.309524</td>\n      <td>0.053362</td>\n      <td>0.994215</td>\n    </tr>\n    <tr>\n      <th>4</th>\n      <td>4</td>\n      <td>I've got orders to put her down.</td>\n      <td>I have orders to kill her.</td>\n      <td>0.726639</td>\n      <td>0.181818</td>\n      <td>0.009402</td>\n      <td>0.999348</td>\n    </tr>\n  </tbody>\n</table>\n</div>"
     },
     "execution_count": 4,
     "metadata": {},
     "output_type": "execute_result"
    }
   ],
   "source": [
    "data.head()"
   ],
   "metadata": {
    "collapsed": false
   }
  },
  {
   "cell_type": "code",
   "execution_count": 13,
   "outputs": [],
   "source": [
    "sorted_by_ref_data = data.sort_values('ref_tox')\n",
    "sorted_by_ref_data.head()\n",
    "\n",
    "# First of all let me subtract middle part of sentences where toxicity is not determined properly\n",
    "\n",
    "part1 = sorted_by_ref_data.iloc[:200_000]\n",
    "part2 = sorted_by_ref_data.iloc[300_000:]\n",
    "\n",
    "# and replace reference and toxicity for the first part\n",
    "ref_temp = part1['reference'].copy()\n",
    "ref_value = part1['ref_tox'].copy()\n",
    "\n",
    "part1['reference'] = part1['translation']\n",
    "part1['translation'] = ref_temp\n",
    "part1['ref_tox'] = part1['trn_tox']\n",
    "part1['trn_tox'] = ref_value\n",
    "\n",
    "new_sorted = pd.concat([part1, part2], axis=0)\n",
    "\n",
    "# and I take only rows with translation toxicity <0.3\n",
    "new_sorted = new_sorted[new_sorted.trn_tox < 0.3]\n",
    "\n",
    "new_sorted.to_csv('../data/internal/data.csv')"
   ],
   "metadata": {
    "collapsed": false
   }
  },
  {
   "cell_type": "code",
   "execution_count": 14,
   "outputs": [],
   "source": [
    "data = pd.read_csv('../data/internal/data.csv')\n",
    "data = data.rename(columns={'Unnamed: 0': 'id'})"
   ],
   "metadata": {
    "collapsed": false
   }
  },
  {
   "cell_type": "code",
   "execution_count": 15,
   "outputs": [],
   "source": [
    "def train_validate_test_split(df, train_percent=.6, validate_percent=.2):\n",
    "    perm = np.random.permutation(df.index)\n",
    "    m = len(df.index)\n",
    "    train_end = int(train_percent * m)\n",
    "    validate_end = int(validate_percent * m) + train_end\n",
    "    train = df.iloc[perm[:train_end]]\n",
    "    validate = df.iloc[perm[train_end:validate_end]]\n",
    "    test = df.iloc[perm[validate_end:]]\n",
    "    return train, validate, test\n",
    "\n",
    "train, val, test= train_validate_test_split(data)"
   ],
   "metadata": {
    "collapsed": false
   }
  },
  {
   "cell_type": "code",
   "execution_count": 16,
   "outputs": [
    {
     "name": "stdout",
     "output_type": "stream",
     "text": [
      "(105262, 9)\n"
     ]
    },
    {
     "data": {
      "text/plain": "            id  Unnamed: 0.1      id  \\\n118383   53475        391785  391785   \n95742   426615        317846  317846   \n152285  463407        181540  181540   \n13737    22096        329514  329514   \n69114   409027        135813  135813   \n\n                                            reference  \\\n118383  God damn it, man, do you have a time machine?   \n95742       Haven't you finished that damn thing yet?   \n152285         You bastard, that was my daddy's desk!   \n13737         they're filming the movie, God damn it.   \n69114                    Damn it, you saw him coming.   \n\n                                        translation  similarity  lenght_diff  \\\n118383  Wow! Bummer, dude. You have a time machine?    0.607161     0.043478   \n95742                you're not done with this yet?    0.686981     0.261905   \n152285       you rascal, that was my father's desk.    0.749138     0.000000   \n13737            All right, they're making a movie.    0.628424     0.125000   \n69114                     hell, you saw him coming.    0.941843     0.103448   \n\n         ref_tox   trn_tox  \n118383  0.999267  0.000330  \n95742   0.998955  0.000037  \n152285  0.999565  0.041223  \n13737   0.996077  0.000073  \n69114   0.998398  0.010818  ",
      "text/html": "<div>\n<style scoped>\n    .dataframe tbody tr th:only-of-type {\n        vertical-align: middle;\n    }\n\n    .dataframe tbody tr th {\n        vertical-align: top;\n    }\n\n    .dataframe thead th {\n        text-align: right;\n    }\n</style>\n<table border=\"1\" class=\"dataframe\">\n  <thead>\n    <tr style=\"text-align: right;\">\n      <th></th>\n      <th>id</th>\n      <th>Unnamed: 0.1</th>\n      <th>id</th>\n      <th>reference</th>\n      <th>translation</th>\n      <th>similarity</th>\n      <th>lenght_diff</th>\n      <th>ref_tox</th>\n      <th>trn_tox</th>\n    </tr>\n  </thead>\n  <tbody>\n    <tr>\n      <th>118383</th>\n      <td>53475</td>\n      <td>391785</td>\n      <td>391785</td>\n      <td>God damn it, man, do you have a time machine?</td>\n      <td>Wow! Bummer, dude. You have a time machine?</td>\n      <td>0.607161</td>\n      <td>0.043478</td>\n      <td>0.999267</td>\n      <td>0.000330</td>\n    </tr>\n    <tr>\n      <th>95742</th>\n      <td>426615</td>\n      <td>317846</td>\n      <td>317846</td>\n      <td>Haven't you finished that damn thing yet?</td>\n      <td>you're not done with this yet?</td>\n      <td>0.686981</td>\n      <td>0.261905</td>\n      <td>0.998955</td>\n      <td>0.000037</td>\n    </tr>\n    <tr>\n      <th>152285</th>\n      <td>463407</td>\n      <td>181540</td>\n      <td>181540</td>\n      <td>You bastard, that was my daddy's desk!</td>\n      <td>you rascal, that was my father's desk.</td>\n      <td>0.749138</td>\n      <td>0.000000</td>\n      <td>0.999565</td>\n      <td>0.041223</td>\n    </tr>\n    <tr>\n      <th>13737</th>\n      <td>22096</td>\n      <td>329514</td>\n      <td>329514</td>\n      <td>they're filming the movie, God damn it.</td>\n      <td>All right, they're making a movie.</td>\n      <td>0.628424</td>\n      <td>0.125000</td>\n      <td>0.996077</td>\n      <td>0.000073</td>\n    </tr>\n    <tr>\n      <th>69114</th>\n      <td>409027</td>\n      <td>135813</td>\n      <td>135813</td>\n      <td>Damn it, you saw him coming.</td>\n      <td>hell, you saw him coming.</td>\n      <td>0.941843</td>\n      <td>0.103448</td>\n      <td>0.998398</td>\n      <td>0.010818</td>\n    </tr>\n  </tbody>\n</table>\n</div>"
     },
     "execution_count": 16,
     "metadata": {},
     "output_type": "execute_result"
    }
   ],
   "source": [
    "print(train.shape)\n",
    "train.head()"
   ],
   "metadata": {
    "collapsed": false
   }
  },
  {
   "cell_type": "code",
   "execution_count": 17,
   "outputs": [
    {
     "name": "stdout",
     "output_type": "stream",
     "text": [
      "(35087, 9)\n"
     ]
    },
    {
     "data": {
      "text/plain": "            id  Unnamed: 0.1      id  \\\n126540  446484        352381  352381   \n144722  458520        135663  135663   \n16668   373962        142468  142468   \n128696   40792        121118  121118   \n75579   413355        208694  208694   \n\n                                                reference  \\\n126540  You know what problem I have with your fucking...   \n144722                  You're a smart motherfucker, huh?   \n16668                        Two fucking days and nights.   \n128696                          okay, okay, just shut up!   \n75579   You go, and every second you're down there, I ...   \n\n                                              translation  similarity  \\\n126540  you know what my problem is with your little p...    0.826222   \n144722                          you're smart, aren't you?    0.767010   \n16668                            two days and two nights.    0.930261   \n128696                             OK, OK, just pipe down    0.628026   \n75579   you're going to go, and every second you spend...    0.661610   \n\n        lenght_diff   ref_tox   trn_tox  \n126540     0.265957  0.999347  0.070026  \n144722     0.235294  0.999510  0.000146  \n16668      0.137931  0.996257  0.000044  \n128696     0.115385  0.999369  0.000168  \n75579      0.022901  0.998561  0.002690  ",
      "text/html": "<div>\n<style scoped>\n    .dataframe tbody tr th:only-of-type {\n        vertical-align: middle;\n    }\n\n    .dataframe tbody tr th {\n        vertical-align: top;\n    }\n\n    .dataframe thead th {\n        text-align: right;\n    }\n</style>\n<table border=\"1\" class=\"dataframe\">\n  <thead>\n    <tr style=\"text-align: right;\">\n      <th></th>\n      <th>id</th>\n      <th>Unnamed: 0.1</th>\n      <th>id</th>\n      <th>reference</th>\n      <th>translation</th>\n      <th>similarity</th>\n      <th>lenght_diff</th>\n      <th>ref_tox</th>\n      <th>trn_tox</th>\n    </tr>\n  </thead>\n  <tbody>\n    <tr>\n      <th>126540</th>\n      <td>446484</td>\n      <td>352381</td>\n      <td>352381</td>\n      <td>You know what problem I have with your fucking...</td>\n      <td>you know what my problem is with your little p...</td>\n      <td>0.826222</td>\n      <td>0.265957</td>\n      <td>0.999347</td>\n      <td>0.070026</td>\n    </tr>\n    <tr>\n      <th>144722</th>\n      <td>458520</td>\n      <td>135663</td>\n      <td>135663</td>\n      <td>You're a smart motherfucker, huh?</td>\n      <td>you're smart, aren't you?</td>\n      <td>0.767010</td>\n      <td>0.235294</td>\n      <td>0.999510</td>\n      <td>0.000146</td>\n    </tr>\n    <tr>\n      <th>16668</th>\n      <td>373962</td>\n      <td>142468</td>\n      <td>142468</td>\n      <td>Two fucking days and nights.</td>\n      <td>two days and two nights.</td>\n      <td>0.930261</td>\n      <td>0.137931</td>\n      <td>0.996257</td>\n      <td>0.000044</td>\n    </tr>\n    <tr>\n      <th>128696</th>\n      <td>40792</td>\n      <td>121118</td>\n      <td>121118</td>\n      <td>okay, okay, just shut up!</td>\n      <td>OK, OK, just pipe down</td>\n      <td>0.628026</td>\n      <td>0.115385</td>\n      <td>0.999369</td>\n      <td>0.000168</td>\n    </tr>\n    <tr>\n      <th>75579</th>\n      <td>413355</td>\n      <td>208694</td>\n      <td>208694</td>\n      <td>You go, and every second you're down there, I ...</td>\n      <td>you're going to go, and every second you spend...</td>\n      <td>0.661610</td>\n      <td>0.022901</td>\n      <td>0.998561</td>\n      <td>0.002690</td>\n    </tr>\n  </tbody>\n</table>\n</div>"
     },
     "execution_count": 17,
     "metadata": {},
     "output_type": "execute_result"
    }
   ],
   "source": [
    "print(val.shape)\n",
    "val.head()"
   ],
   "metadata": {
    "collapsed": false
   }
  },
  {
   "cell_type": "code",
   "execution_count": 18,
   "outputs": [
    {
     "name": "stdout",
     "output_type": "stream",
     "text": [
      "(35088, 9)\n"
     ]
    },
    {
     "data": {
      "text/plain": "            id  Unnamed: 0.1      id  \\\n80847   416895        541102  541102   \n56092    69038        145931  145931   \n81136   417094         37525   37525   \n104924  176437         63850   63850   \n150881  164801        348737  348737   \n\n                                                reference  \\\n80847                  Do you think I've eaten that dick?   \n56092   I feel like I'm going to fuck with my foot in ...   \n81136   We wouldn't have to go back to stupidity forev...   \n104924  there's a fool in Yellowstone who's been right...   \n150881  and then they send a fool like you to tell me ...   \n\n                                              translation  similarity  \\\n80847                                you think I ate him?    0.676477   \n56092   I just really feel like I'm about to rattle th...    0.637634   \n81136            would we go back to ignorance forever? \"    0.724614   \n104924  I met this guy in Yellowstone, this crazy guy....    0.671008   \n150881  And they send some yo-yo like you in here, to ...    0.662654   \n\n        lenght_diff   ref_tox   trn_tox  \n80847      0.400000  0.998680  0.000167  \n56092      0.148649  0.998026  0.000765  \n81136      0.196078  0.998686  0.002686  \n104924     0.300971  0.999093  0.025760  \n150881     0.321429  0.999555  0.019775  ",
      "text/html": "<div>\n<style scoped>\n    .dataframe tbody tr th:only-of-type {\n        vertical-align: middle;\n    }\n\n    .dataframe tbody tr th {\n        vertical-align: top;\n    }\n\n    .dataframe thead th {\n        text-align: right;\n    }\n</style>\n<table border=\"1\" class=\"dataframe\">\n  <thead>\n    <tr style=\"text-align: right;\">\n      <th></th>\n      <th>id</th>\n      <th>Unnamed: 0.1</th>\n      <th>id</th>\n      <th>reference</th>\n      <th>translation</th>\n      <th>similarity</th>\n      <th>lenght_diff</th>\n      <th>ref_tox</th>\n      <th>trn_tox</th>\n    </tr>\n  </thead>\n  <tbody>\n    <tr>\n      <th>80847</th>\n      <td>416895</td>\n      <td>541102</td>\n      <td>541102</td>\n      <td>Do you think I've eaten that dick?</td>\n      <td>you think I ate him?</td>\n      <td>0.676477</td>\n      <td>0.400000</td>\n      <td>0.998680</td>\n      <td>0.000167</td>\n    </tr>\n    <tr>\n      <th>56092</th>\n      <td>69038</td>\n      <td>145931</td>\n      <td>145931</td>\n      <td>I feel like I'm going to fuck with my foot in ...</td>\n      <td>I just really feel like I'm about to rattle th...</td>\n      <td>0.637634</td>\n      <td>0.148649</td>\n      <td>0.998026</td>\n      <td>0.000765</td>\n    </tr>\n    <tr>\n      <th>81136</th>\n      <td>417094</td>\n      <td>37525</td>\n      <td>37525</td>\n      <td>We wouldn't have to go back to stupidity forev...</td>\n      <td>would we go back to ignorance forever? \"</td>\n      <td>0.724614</td>\n      <td>0.196078</td>\n      <td>0.998686</td>\n      <td>0.002686</td>\n    </tr>\n    <tr>\n      <th>104924</th>\n      <td>176437</td>\n      <td>63850</td>\n      <td>63850</td>\n      <td>there's a fool in Yellowstone who's been right...</td>\n      <td>I met this guy in Yellowstone, this crazy guy....</td>\n      <td>0.671008</td>\n      <td>0.300971</td>\n      <td>0.999093</td>\n      <td>0.025760</td>\n    </tr>\n    <tr>\n      <th>150881</th>\n      <td>164801</td>\n      <td>348737</td>\n      <td>348737</td>\n      <td>and then they send a fool like you to tell me ...</td>\n      <td>And they send some yo-yo like you in here, to ...</td>\n      <td>0.662654</td>\n      <td>0.321429</td>\n      <td>0.999555</td>\n      <td>0.019775</td>\n    </tr>\n  </tbody>\n</table>\n</div>"
     },
     "execution_count": 18,
     "metadata": {},
     "output_type": "execute_result"
    }
   ],
   "source": [
    "print(test.shape)\n",
    "test.head()"
   ],
   "metadata": {
    "collapsed": false
   }
  },
  {
   "cell_type": "code",
   "execution_count": 19,
   "outputs": [],
   "source": [
    "train.to_csv(\"../data/internal/train.csv\")\n",
    "val.to_csv(\"../data/internal/validation.csv\")\n",
    "test.to_csv(\"../data/internal/test.csv\")"
   ],
   "metadata": {
    "collapsed": false
   }
  },
  {
   "cell_type": "code",
   "execution_count": null,
   "outputs": [],
   "source": [],
   "metadata": {
    "collapsed": false
   }
  }
 ],
 "metadata": {
  "kernelspec": {
   "display_name": "Python 3",
   "language": "python",
   "name": "python3"
  },
  "language_info": {
   "codemirror_mode": {
    "name": "ipython",
    "version": 2
   },
   "file_extension": ".py",
   "mimetype": "text/x-python",
   "name": "python",
   "nbconvert_exporter": "python",
   "pygments_lexer": "ipython2",
   "version": "2.7.6"
  }
 },
 "nbformat": 4,
 "nbformat_minor": 0
}
