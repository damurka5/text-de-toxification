{
 "cells": [
  {
   "cell_type": "markdown",
   "source": [
    "## Data division by train, val, test sets."
   ],
   "metadata": {
    "collapsed": false
   }
  },
  {
   "cell_type": "code",
   "execution_count": 1,
   "metadata": {
    "collapsed": true
   },
   "outputs": [],
   "source": [
    "import pandas as pd\n",
    "import numpy as np\n",
    "import warnings\n",
    "import torch\n",
    "\n",
    "torch.manual_seed(420)\n",
    "np.random.seed(420)\n",
    "warnings.filterwarnings('ignore')"
   ]
  },
  {
   "cell_type": "code",
   "execution_count": 43,
   "outputs": [],
   "source": [
    "data = pd.read_table(\"../data/raw/filtered.tsv\")"
   ],
   "metadata": {
    "collapsed": false
   }
  },
  {
   "cell_type": "code",
   "execution_count": 44,
   "outputs": [
    {
     "data": {
      "text/plain": "   Unnamed: 0                                          reference  \\\n0           0  If Alkar is flooding her with psychic waste, t...   \n1           1                          Now you're getting nasty.   \n2           2           Well, we could spare your life, for one.   \n3           3          Ah! Monkey, you've got to snap out of it.   \n4           4                   I've got orders to put her down.   \n\n                                         translation  similarity  lenght_diff  \\\n0  if Alkar floods her with her mental waste, it ...    0.785171     0.010309   \n1                        you're becoming disgusting.    0.749687     0.071429   \n2                      well, we can spare your life.    0.919051     0.268293   \n3                       monkey, you have to wake up.    0.664333     0.309524   \n4                         I have orders to kill her.    0.726639     0.181818   \n\n    ref_tox   trn_tox  \n0  0.014195  0.981983  \n1  0.065473  0.999039  \n2  0.213313  0.985068  \n3  0.053362  0.994215  \n4  0.009402  0.999348  ",
      "text/html": "<div>\n<style scoped>\n    .dataframe tbody tr th:only-of-type {\n        vertical-align: middle;\n    }\n\n    .dataframe tbody tr th {\n        vertical-align: top;\n    }\n\n    .dataframe thead th {\n        text-align: right;\n    }\n</style>\n<table border=\"1\" class=\"dataframe\">\n  <thead>\n    <tr style=\"text-align: right;\">\n      <th></th>\n      <th>Unnamed: 0</th>\n      <th>reference</th>\n      <th>translation</th>\n      <th>similarity</th>\n      <th>lenght_diff</th>\n      <th>ref_tox</th>\n      <th>trn_tox</th>\n    </tr>\n  </thead>\n  <tbody>\n    <tr>\n      <th>0</th>\n      <td>0</td>\n      <td>If Alkar is flooding her with psychic waste, t...</td>\n      <td>if Alkar floods her with her mental waste, it ...</td>\n      <td>0.785171</td>\n      <td>0.010309</td>\n      <td>0.014195</td>\n      <td>0.981983</td>\n    </tr>\n    <tr>\n      <th>1</th>\n      <td>1</td>\n      <td>Now you're getting nasty.</td>\n      <td>you're becoming disgusting.</td>\n      <td>0.749687</td>\n      <td>0.071429</td>\n      <td>0.065473</td>\n      <td>0.999039</td>\n    </tr>\n    <tr>\n      <th>2</th>\n      <td>2</td>\n      <td>Well, we could spare your life, for one.</td>\n      <td>well, we can spare your life.</td>\n      <td>0.919051</td>\n      <td>0.268293</td>\n      <td>0.213313</td>\n      <td>0.985068</td>\n    </tr>\n    <tr>\n      <th>3</th>\n      <td>3</td>\n      <td>Ah! Monkey, you've got to snap out of it.</td>\n      <td>monkey, you have to wake up.</td>\n      <td>0.664333</td>\n      <td>0.309524</td>\n      <td>0.053362</td>\n      <td>0.994215</td>\n    </tr>\n    <tr>\n      <th>4</th>\n      <td>4</td>\n      <td>I've got orders to put her down.</td>\n      <td>I have orders to kill her.</td>\n      <td>0.726639</td>\n      <td>0.181818</td>\n      <td>0.009402</td>\n      <td>0.999348</td>\n    </tr>\n  </tbody>\n</table>\n</div>"
     },
     "execution_count": 44,
     "metadata": {},
     "output_type": "execute_result"
    }
   ],
   "source": [
    "data.head()"
   ],
   "metadata": {
    "collapsed": false
   }
  },
  {
   "cell_type": "code",
   "execution_count": 45,
   "outputs": [],
   "source": [
    "data = data.rename(columns={'Unnamed: 0': 'id'})"
   ],
   "metadata": {
    "collapsed": false
   }
  },
  {
   "cell_type": "code",
   "execution_count": 46,
   "outputs": [],
   "source": [
    "def train_validate_test_split(df, train_percent=.6, validate_percent=.2):\n",
    "    perm = np.random.permutation(df.index)\n",
    "    m = len(df.index)\n",
    "    train_end = int(train_percent * m)\n",
    "    validate_end = int(validate_percent * m) + train_end\n",
    "    train = df.iloc[perm[:train_end]]\n",
    "    validate = df.iloc[perm[train_end:validate_end]]\n",
    "    test = df.iloc[perm[validate_end:]]\n",
    "    return train, validate, test\n",
    "\n",
    "train, val, test= train_validate_test_split(data)"
   ],
   "metadata": {
    "collapsed": false
   }
  },
  {
   "cell_type": "code",
   "execution_count": 47,
   "outputs": [
    {
     "name": "stdout",
     "output_type": "stream",
     "text": [
      "(346666, 7)\n"
     ]
    },
    {
     "data": {
      "text/plain": "            id                                          reference  \\\n399158  399158            All he's got is that dingy pride of his   \n124527  124527          \"Can't you see, Mars is crazy!\" he cried.   \n476327  476327  That's a no. No wonder you're not psyched abou...   \n235485  235485                 The ass has stuffed you with money   \n478338  478338                   I get wicked bladder infections.   \n\n                                       translation  similarity  lenght_diff  \\\n399158     he's got nothing but his fucking pride.    0.709218     0.000000   \n124527  \"you can't see, Mym's crazy!\" He screamed.    0.894288     0.023256   \n476327   no wonder sex doesn't take you very much.    0.777771     0.207547   \n235485                 the donkey does your money.    0.631129     0.200000   \n478338          I have a stupid bladder infection.    0.782412     0.057143   \n\n         ref_tox   trn_tox  \n399158  0.067650  0.998892  \n124527  0.034097  0.762456  \n476327  0.021677  0.936896  \n235485  0.998838  0.010489  \n478338  0.010191  0.997651  ",
      "text/html": "<div>\n<style scoped>\n    .dataframe tbody tr th:only-of-type {\n        vertical-align: middle;\n    }\n\n    .dataframe tbody tr th {\n        vertical-align: top;\n    }\n\n    .dataframe thead th {\n        text-align: right;\n    }\n</style>\n<table border=\"1\" class=\"dataframe\">\n  <thead>\n    <tr style=\"text-align: right;\">\n      <th></th>\n      <th>id</th>\n      <th>reference</th>\n      <th>translation</th>\n      <th>similarity</th>\n      <th>lenght_diff</th>\n      <th>ref_tox</th>\n      <th>trn_tox</th>\n    </tr>\n  </thead>\n  <tbody>\n    <tr>\n      <th>399158</th>\n      <td>399158</td>\n      <td>All he's got is that dingy pride of his</td>\n      <td>he's got nothing but his fucking pride.</td>\n      <td>0.709218</td>\n      <td>0.000000</td>\n      <td>0.067650</td>\n      <td>0.998892</td>\n    </tr>\n    <tr>\n      <th>124527</th>\n      <td>124527</td>\n      <td>\"Can't you see, Mars is crazy!\" he cried.</td>\n      <td>\"you can't see, Mym's crazy!\" He screamed.</td>\n      <td>0.894288</td>\n      <td>0.023256</td>\n      <td>0.034097</td>\n      <td>0.762456</td>\n    </tr>\n    <tr>\n      <th>476327</th>\n      <td>476327</td>\n      <td>That's a no. No wonder you're not psyched abou...</td>\n      <td>no wonder sex doesn't take you very much.</td>\n      <td>0.777771</td>\n      <td>0.207547</td>\n      <td>0.021677</td>\n      <td>0.936896</td>\n    </tr>\n    <tr>\n      <th>235485</th>\n      <td>235485</td>\n      <td>The ass has stuffed you with money</td>\n      <td>the donkey does your money.</td>\n      <td>0.631129</td>\n      <td>0.200000</td>\n      <td>0.998838</td>\n      <td>0.010489</td>\n    </tr>\n    <tr>\n      <th>478338</th>\n      <td>478338</td>\n      <td>I get wicked bladder infections.</td>\n      <td>I have a stupid bladder infection.</td>\n      <td>0.782412</td>\n      <td>0.057143</td>\n      <td>0.010191</td>\n      <td>0.997651</td>\n    </tr>\n  </tbody>\n</table>\n</div>"
     },
     "execution_count": 47,
     "metadata": {},
     "output_type": "execute_result"
    }
   ],
   "source": [
    "print(train.shape)\n",
    "train.head()"
   ],
   "metadata": {
    "collapsed": false
   }
  },
  {
   "cell_type": "code",
   "execution_count": 48,
   "outputs": [
    {
     "name": "stdout",
     "output_type": "stream",
     "text": [
      "(115555, 7)\n"
     ]
    },
    {
     "data": {
      "text/plain": "            id                                          reference  \\\n212119  212119  If you hit him square in the nose... ...he'll ...   \n400333  400333                 Jesus, do you make a lot of noise.   \n439964  439964          I told you before, keep your paws off me.   \n549229  549229                     For Christ's sake, what is it?   \n185403  185403                       Damn, I wasn't there for it.   \n\n                                              translation  similarity  \\\n212119  when he hits it right between his eyes, he'll ...    0.823291   \n400333                         damn, you're making noise.    0.856607   \n439964        I told you. Keep your fucking hands off me.    0.762727   \n549229                         what the hell is going on?    0.607565   \n185403                           hell and I wasn't there.    0.800603   \n\n        lenght_diff   ref_tox   trn_tox  \n212119     0.066667  0.990099  0.010025  \n400333     0.228571  0.008156  0.999509  \n439964     0.045455  0.002396  0.999116  \n549229     0.129032  0.000040  0.900568  \n185403     0.137931  0.996774  0.038908  ",
      "text/html": "<div>\n<style scoped>\n    .dataframe tbody tr th:only-of-type {\n        vertical-align: middle;\n    }\n\n    .dataframe tbody tr th {\n        vertical-align: top;\n    }\n\n    .dataframe thead th {\n        text-align: right;\n    }\n</style>\n<table border=\"1\" class=\"dataframe\">\n  <thead>\n    <tr style=\"text-align: right;\">\n      <th></th>\n      <th>id</th>\n      <th>reference</th>\n      <th>translation</th>\n      <th>similarity</th>\n      <th>lenght_diff</th>\n      <th>ref_tox</th>\n      <th>trn_tox</th>\n    </tr>\n  </thead>\n  <tbody>\n    <tr>\n      <th>212119</th>\n      <td>212119</td>\n      <td>If you hit him square in the nose... ...he'll ...</td>\n      <td>when he hits it right between his eyes, he'll ...</td>\n      <td>0.823291</td>\n      <td>0.066667</td>\n      <td>0.990099</td>\n      <td>0.010025</td>\n    </tr>\n    <tr>\n      <th>400333</th>\n      <td>400333</td>\n      <td>Jesus, do you make a lot of noise.</td>\n      <td>damn, you're making noise.</td>\n      <td>0.856607</td>\n      <td>0.228571</td>\n      <td>0.008156</td>\n      <td>0.999509</td>\n    </tr>\n    <tr>\n      <th>439964</th>\n      <td>439964</td>\n      <td>I told you before, keep your paws off me.</td>\n      <td>I told you. Keep your fucking hands off me.</td>\n      <td>0.762727</td>\n      <td>0.045455</td>\n      <td>0.002396</td>\n      <td>0.999116</td>\n    </tr>\n    <tr>\n      <th>549229</th>\n      <td>549229</td>\n      <td>For Christ's sake, what is it?</td>\n      <td>what the hell is going on?</td>\n      <td>0.607565</td>\n      <td>0.129032</td>\n      <td>0.000040</td>\n      <td>0.900568</td>\n    </tr>\n    <tr>\n      <th>185403</th>\n      <td>185403</td>\n      <td>Damn, I wasn't there for it.</td>\n      <td>hell and I wasn't there.</td>\n      <td>0.800603</td>\n      <td>0.137931</td>\n      <td>0.996774</td>\n      <td>0.038908</td>\n    </tr>\n  </tbody>\n</table>\n</div>"
     },
     "execution_count": 48,
     "metadata": {},
     "output_type": "execute_result"
    }
   ],
   "source": [
    "print(val.shape)\n",
    "val.head()"
   ],
   "metadata": {
    "collapsed": false
   }
  },
  {
   "cell_type": "code",
   "execution_count": 49,
   "outputs": [
    {
     "name": "stdout",
     "output_type": "stream",
     "text": [
      "(115556, 7)\n"
     ]
    },
    {
     "data": {
      "text/plain": "            id                                          reference  \\\n284360  284360           After all, there are so fracking many...   \n266934  266934                           Maybe you're the hustler   \n84073    84073          Nice leather briefcase. shame to ruin it.   \n221386  221386   What do you mean, like taking a dump indisposed?   \n33439    33439  My father wants to say the dumping you're doin...   \n\n                                              translation  similarity  \\\n284360                         there's so many fucking...    0.704304   \n266934                              maybe you're a crook!    0.741601   \n84073                        it's a shame to destroy him.    0.666127   \n221386      what do you mean, you're shit, so indisposed?    0.613027   \n33439   my father says the garbage that you put in her...    0.800027   \n\n        lenght_diff   ref_tox   trn_tox  \n284360     0.341463  0.000049  0.994572  \n266934     0.120000  0.118602  0.995913  \n84073      0.309524  0.001761  0.995442  \n221386     0.061224  0.022578  0.999650  \n33439      0.146667  0.011756  0.989963  ",
      "text/html": "<div>\n<style scoped>\n    .dataframe tbody tr th:only-of-type {\n        vertical-align: middle;\n    }\n\n    .dataframe tbody tr th {\n        vertical-align: top;\n    }\n\n    .dataframe thead th {\n        text-align: right;\n    }\n</style>\n<table border=\"1\" class=\"dataframe\">\n  <thead>\n    <tr style=\"text-align: right;\">\n      <th></th>\n      <th>id</th>\n      <th>reference</th>\n      <th>translation</th>\n      <th>similarity</th>\n      <th>lenght_diff</th>\n      <th>ref_tox</th>\n      <th>trn_tox</th>\n    </tr>\n  </thead>\n  <tbody>\n    <tr>\n      <th>284360</th>\n      <td>284360</td>\n      <td>After all, there are so fracking many...</td>\n      <td>there's so many fucking...</td>\n      <td>0.704304</td>\n      <td>0.341463</td>\n      <td>0.000049</td>\n      <td>0.994572</td>\n    </tr>\n    <tr>\n      <th>266934</th>\n      <td>266934</td>\n      <td>Maybe you're the hustler</td>\n      <td>maybe you're a crook!</td>\n      <td>0.741601</td>\n      <td>0.120000</td>\n      <td>0.118602</td>\n      <td>0.995913</td>\n    </tr>\n    <tr>\n      <th>84073</th>\n      <td>84073</td>\n      <td>Nice leather briefcase. shame to ruin it.</td>\n      <td>it's a shame to destroy him.</td>\n      <td>0.666127</td>\n      <td>0.309524</td>\n      <td>0.001761</td>\n      <td>0.995442</td>\n    </tr>\n    <tr>\n      <th>221386</th>\n      <td>221386</td>\n      <td>What do you mean, like taking a dump indisposed?</td>\n      <td>what do you mean, you're shit, so indisposed?</td>\n      <td>0.613027</td>\n      <td>0.061224</td>\n      <td>0.022578</td>\n      <td>0.999650</td>\n    </tr>\n    <tr>\n      <th>33439</th>\n      <td>33439</td>\n      <td>My father wants to say the dumping you're doin...</td>\n      <td>my father says the garbage that you put in her...</td>\n      <td>0.800027</td>\n      <td>0.146667</td>\n      <td>0.011756</td>\n      <td>0.989963</td>\n    </tr>\n  </tbody>\n</table>\n</div>"
     },
     "execution_count": 49,
     "metadata": {},
     "output_type": "execute_result"
    }
   ],
   "source": [
    "print(test.shape)\n",
    "test.head()"
   ],
   "metadata": {
    "collapsed": false
   }
  },
  {
   "cell_type": "code",
   "execution_count": 50,
   "outputs": [],
   "source": [
    "train.to_csv(\"../data/internal/train.csv\")\n",
    "val.to_csv(\"../data/internal/validation.csv\")\n",
    "test.to_csv(\"../data/internal/test.csv\")"
   ],
   "metadata": {
    "collapsed": false
   }
  },
  {
   "cell_type": "code",
   "execution_count": null,
   "outputs": [],
   "source": [],
   "metadata": {
    "collapsed": false
   }
  }
 ],
 "metadata": {
  "kernelspec": {
   "display_name": "Python 3",
   "language": "python",
   "name": "python3"
  },
  "language_info": {
   "codemirror_mode": {
    "name": "ipython",
    "version": 2
   },
   "file_extension": ".py",
   "mimetype": "text/x-python",
   "name": "python",
   "nbconvert_exporter": "python",
   "pygments_lexer": "ipython2",
   "version": "2.7.6"
  }
 },
 "nbformat": 4,
 "nbformat_minor": 0
}
