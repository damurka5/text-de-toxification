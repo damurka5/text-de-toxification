{
 "cells": [
  {
   "cell_type": "markdown",
   "source": [
    "## Data division by train, val, test sets."
   ],
   "metadata": {
    "collapsed": false
   }
  },
  {
   "cell_type": "code",
   "execution_count": 1,
   "metadata": {
    "collapsed": true
   },
   "outputs": [],
   "source": [
    "import pandas as pd\n",
    "import numpy as np\n",
    "import warnings\n",
    "import torch\n",
    "\n",
    "torch.manual_seed(420)\n",
    "np.random.seed(420)\n",
    "warnings.filterwarnings('ignore')"
   ]
  },
  {
   "cell_type": "code",
   "execution_count": 18,
   "outputs": [],
   "source": [
    "data = pd.read_table(\"../data/raw/filtered.tsv\")"
   ],
   "metadata": {
    "collapsed": false
   }
  },
  {
   "cell_type": "code",
   "execution_count": 19,
   "outputs": [],
   "source": [
    "data = data.rename(columns={'Unnamed: 0': 'id'})"
   ],
   "metadata": {
    "collapsed": false
   }
  },
  {
   "cell_type": "code",
   "execution_count": 20,
   "outputs": [],
   "source": [
    "def train_validate_test_split(df, train_percent=.6, validate_percent=.2):\n",
    "    perm = np.random.permutation(df.index)\n",
    "    m = len(df.index)\n",
    "    train_end = int(train_percent * m)\n",
    "    validate_end = int(validate_percent * m) + train_end\n",
    "    train = df.iloc[perm[:train_end]]\n",
    "    validate = df.iloc[perm[train_end:validate_end]]\n",
    "    test = df.iloc[perm[validate_end:]]\n",
    "    return train, validate, test\n",
    "\n",
    "train, val, test= train_validate_test_split(data)"
   ],
   "metadata": {
    "collapsed": false
   }
  },
  {
   "cell_type": "code",
   "execution_count": 21,
   "outputs": [
    {
     "name": "stdout",
     "output_type": "stream",
     "text": [
      "(346666, 7)\n"
     ]
    },
    {
     "data": {
      "text/plain": "            id                                          reference  \\\n304746  304746  If so, then, dear Mother Dark, he was right in...   \n490543  490543  You've... you've infected us with the frelling...   \n36383    36383  Joe And I don't fancy being busted by your dad...   \n390252  390252                             I told you, she's mad.   \n568521  568521                                     Bandits! shit!   \n\n                                              translation  similarity  \\\n304746  and if so, then, dear Mother of the night, he ...    0.697579   \n490543  you... She infected us with some fucking Hyner...    0.723590   \n36383   Joe I don't want to get my ass kicked by your ...    0.679596   \n390252                           I told you he was crazy.    0.801060   \n568521                                       the bandits!    0.826451   \n\n        lenght_diff   ref_tox   trn_tox  \n304746     0.031847  0.972030  0.000075  \n490543     0.062500  0.039560  0.999129  \n36383      0.055556  0.008428  0.999018  \n390252     0.080000  0.001394  0.963001  \n568521     0.133333  0.999630  0.009368  ",
      "text/html": "<div>\n<style scoped>\n    .dataframe tbody tr th:only-of-type {\n        vertical-align: middle;\n    }\n\n    .dataframe tbody tr th {\n        vertical-align: top;\n    }\n\n    .dataframe thead th {\n        text-align: right;\n    }\n</style>\n<table border=\"1\" class=\"dataframe\">\n  <thead>\n    <tr style=\"text-align: right;\">\n      <th></th>\n      <th>id</th>\n      <th>reference</th>\n      <th>translation</th>\n      <th>similarity</th>\n      <th>lenght_diff</th>\n      <th>ref_tox</th>\n      <th>trn_tox</th>\n    </tr>\n  </thead>\n  <tbody>\n    <tr>\n      <th>304746</th>\n      <td>304746</td>\n      <td>If so, then, dear Mother Dark, he was right in...</td>\n      <td>and if so, then, dear Mother of the night, he ...</td>\n      <td>0.697579</td>\n      <td>0.031847</td>\n      <td>0.972030</td>\n      <td>0.000075</td>\n    </tr>\n    <tr>\n      <th>490543</th>\n      <td>490543</td>\n      <td>You've... you've infected us with the frelling...</td>\n      <td>you... She infected us with some fucking Hyner...</td>\n      <td>0.723590</td>\n      <td>0.062500</td>\n      <td>0.039560</td>\n      <td>0.999129</td>\n    </tr>\n    <tr>\n      <th>36383</th>\n      <td>36383</td>\n      <td>Joe And I don't fancy being busted by your dad...</td>\n      <td>Joe I don't want to get my ass kicked by your ...</td>\n      <td>0.679596</td>\n      <td>0.055556</td>\n      <td>0.008428</td>\n      <td>0.999018</td>\n    </tr>\n    <tr>\n      <th>390252</th>\n      <td>390252</td>\n      <td>I told you, she's mad.</td>\n      <td>I told you he was crazy.</td>\n      <td>0.801060</td>\n      <td>0.080000</td>\n      <td>0.001394</td>\n      <td>0.963001</td>\n    </tr>\n    <tr>\n      <th>568521</th>\n      <td>568521</td>\n      <td>Bandits! shit!</td>\n      <td>the bandits!</td>\n      <td>0.826451</td>\n      <td>0.133333</td>\n      <td>0.999630</td>\n      <td>0.009368</td>\n    </tr>\n  </tbody>\n</table>\n</div>"
     },
     "execution_count": 21,
     "metadata": {},
     "output_type": "execute_result"
    }
   ],
   "source": [
    "print(train.shape)\n",
    "train.head()"
   ],
   "metadata": {
    "collapsed": false
   }
  },
  {
   "cell_type": "code",
   "execution_count": 22,
   "outputs": [
    {
     "name": "stdout",
     "output_type": "stream",
     "text": [
      "(115555, 7)\n"
     ]
    },
    {
     "data": {
      "text/plain": "            id                                          reference  \\\n425163  425163  Twenty years ago, Terry Stinson finds out... t...   \n351528  351528                      I think that's too much porn.   \n95720    95720  You assassinate one System Lord after another,...   \n485865  485865                                      And a weirdo.   \n113062  113062  I believe it was George Bernard Shaw who once ...   \n\n                                              translation  similarity  \\\n425163  20 years ago, Terry Stinson found out that Rog...    0.912077   \n351528                      I think that's a lot of porn.    0.868729   \n95720   you will kill one System Master after the seco...    0.813796   \n485865                                     and a pervert.    0.720317   \n113062  I believe that George Bernard Shaw, who once j...    0.738933   \n\n        lenght_diff   ref_tox   trn_tox  \n425163     0.021739  0.959524  0.000226  \n351528     0.000000  0.108668  0.864967  \n95720      0.008403  0.121852  0.988236  \n485865     0.066667  0.042691  0.998691  \n113062     0.175824  0.001150  0.979235  ",
      "text/html": "<div>\n<style scoped>\n    .dataframe tbody tr th:only-of-type {\n        vertical-align: middle;\n    }\n\n    .dataframe tbody tr th {\n        vertical-align: top;\n    }\n\n    .dataframe thead th {\n        text-align: right;\n    }\n</style>\n<table border=\"1\" class=\"dataframe\">\n  <thead>\n    <tr style=\"text-align: right;\">\n      <th></th>\n      <th>id</th>\n      <th>reference</th>\n      <th>translation</th>\n      <th>similarity</th>\n      <th>lenght_diff</th>\n      <th>ref_tox</th>\n      <th>trn_tox</th>\n    </tr>\n  </thead>\n  <tbody>\n    <tr>\n      <th>425163</th>\n      <td>425163</td>\n      <td>Twenty years ago, Terry Stinson finds out... t...</td>\n      <td>20 years ago, Terry Stinson found out that Rog...</td>\n      <td>0.912077</td>\n      <td>0.021739</td>\n      <td>0.959524</td>\n      <td>0.000226</td>\n    </tr>\n    <tr>\n      <th>351528</th>\n      <td>351528</td>\n      <td>I think that's too much porn.</td>\n      <td>I think that's a lot of porn.</td>\n      <td>0.868729</td>\n      <td>0.000000</td>\n      <td>0.108668</td>\n      <td>0.864967</td>\n    </tr>\n    <tr>\n      <th>95720</th>\n      <td>95720</td>\n      <td>You assassinate one System Lord after another,...</td>\n      <td>you will kill one System Master after the seco...</td>\n      <td>0.813796</td>\n      <td>0.008403</td>\n      <td>0.121852</td>\n      <td>0.988236</td>\n    </tr>\n    <tr>\n      <th>485865</th>\n      <td>485865</td>\n      <td>And a weirdo.</td>\n      <td>and a pervert.</td>\n      <td>0.720317</td>\n      <td>0.066667</td>\n      <td>0.042691</td>\n      <td>0.998691</td>\n    </tr>\n    <tr>\n      <th>113062</th>\n      <td>113062</td>\n      <td>I believe it was George Bernard Shaw who once ...</td>\n      <td>I believe that George Bernard Shaw, who once j...</td>\n      <td>0.738933</td>\n      <td>0.175824</td>\n      <td>0.001150</td>\n      <td>0.979235</td>\n    </tr>\n  </tbody>\n</table>\n</div>"
     },
     "execution_count": 22,
     "metadata": {},
     "output_type": "execute_result"
    }
   ],
   "source": [
    "print(val.shape)\n",
    "val.head()"
   ],
   "metadata": {
    "collapsed": false
   }
  },
  {
   "cell_type": "code",
   "execution_count": 23,
   "outputs": [
    {
     "name": "stdout",
     "output_type": "stream",
     "text": [
      "(115556, 7)\n"
     ]
    },
    {
     "data": {
      "text/plain": "            id                                          reference  \\\n468459  468459  But my mom said she would totally kill me if I...   \n58239    58239  If you could jack me with all sorts of flavors...   \n216407  216407                            Because I'm high! Fuck!   \n2432      2432  \"On Gaia,\" said Trevize, \"the excreta is, of c...   \n308271  308271  Dong Hyun, you saying you're gonna go one on o...   \n\n                                              translation  similarity  \\\n468459  but my mom said if I did it, she was gonna kil...    0.924148   \n58239       if you can impress me with all the flavors...    0.789603   \n216407                                  because I'm high!    0.861709   \n2432    'Gaea, though, is as vivid as yours, 'said Tre...    0.644457   \n308271  Dong Hyun, you're saying you want to have sex ...    0.703997   \n\n        lenght_diff   ref_tox   trn_tox  \n468459     0.117647  0.058146  0.991912  \n58239      0.080000  0.606719  0.000036  \n216407     0.250000  0.999258  0.000204  \n2432       0.306667  0.911683  0.000161  \n308271     0.050847  0.000065  0.994469  ",
      "text/html": "<div>\n<style scoped>\n    .dataframe tbody tr th:only-of-type {\n        vertical-align: middle;\n    }\n\n    .dataframe tbody tr th {\n        vertical-align: top;\n    }\n\n    .dataframe thead th {\n        text-align: right;\n    }\n</style>\n<table border=\"1\" class=\"dataframe\">\n  <thead>\n    <tr style=\"text-align: right;\">\n      <th></th>\n      <th>id</th>\n      <th>reference</th>\n      <th>translation</th>\n      <th>similarity</th>\n      <th>lenght_diff</th>\n      <th>ref_tox</th>\n      <th>trn_tox</th>\n    </tr>\n  </thead>\n  <tbody>\n    <tr>\n      <th>468459</th>\n      <td>468459</td>\n      <td>But my mom said she would totally kill me if I...</td>\n      <td>but my mom said if I did it, she was gonna kil...</td>\n      <td>0.924148</td>\n      <td>0.117647</td>\n      <td>0.058146</td>\n      <td>0.991912</td>\n    </tr>\n    <tr>\n      <th>58239</th>\n      <td>58239</td>\n      <td>If you could jack me with all sorts of flavors...</td>\n      <td>if you can impress me with all the flavors...</td>\n      <td>0.789603</td>\n      <td>0.080000</td>\n      <td>0.606719</td>\n      <td>0.000036</td>\n    </tr>\n    <tr>\n      <th>216407</th>\n      <td>216407</td>\n      <td>Because I'm high! Fuck!</td>\n      <td>because I'm high!</td>\n      <td>0.861709</td>\n      <td>0.250000</td>\n      <td>0.999258</td>\n      <td>0.000204</td>\n    </tr>\n    <tr>\n      <th>2432</th>\n      <td>2432</td>\n      <td>\"On Gaia,\" said Trevize, \"the excreta is, of c...</td>\n      <td>'Gaea, though, is as vivid as yours, 'said Tre...</td>\n      <td>0.644457</td>\n      <td>0.306667</td>\n      <td>0.911683</td>\n      <td>0.000161</td>\n    </tr>\n    <tr>\n      <th>308271</th>\n      <td>308271</td>\n      <td>Dong Hyun, you saying you're gonna go one on o...</td>\n      <td>Dong Hyun, you're saying you want to have sex ...</td>\n      <td>0.703997</td>\n      <td>0.050847</td>\n      <td>0.000065</td>\n      <td>0.994469</td>\n    </tr>\n  </tbody>\n</table>\n</div>"
     },
     "execution_count": 23,
     "metadata": {},
     "output_type": "execute_result"
    }
   ],
   "source": [
    "print(test.shape)\n",
    "test.head()"
   ],
   "metadata": {
    "collapsed": false
   }
  },
  {
   "cell_type": "code",
   "execution_count": 24,
   "outputs": [],
   "source": [
    "train.to_csv(\"../data/internal/train.csv\")\n",
    "val.to_csv(\"../data/internal/validation.csv\")\n",
    "test.to_csv(\"../data/internal/test.csv\")"
   ],
   "metadata": {
    "collapsed": false
   }
  }
 ],
 "metadata": {
  "kernelspec": {
   "display_name": "Python 3",
   "language": "python",
   "name": "python3"
  },
  "language_info": {
   "codemirror_mode": {
    "name": "ipython",
    "version": 2
   },
   "file_extension": ".py",
   "mimetype": "text/x-python",
   "name": "python",
   "nbconvert_exporter": "python",
   "pygments_lexer": "ipython2",
   "version": "2.7.6"
  }
 },
 "nbformat": 4,
 "nbformat_minor": 0
}
