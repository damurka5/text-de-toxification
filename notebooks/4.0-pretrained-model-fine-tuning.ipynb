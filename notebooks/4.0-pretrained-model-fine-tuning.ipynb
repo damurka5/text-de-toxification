{
 "cells": [
  {
   "cell_type": "markdown",
   "source": [
    "## Lets start from eugenesiow/bart-paraphrase model"
   ],
   "metadata": {
    "collapsed": false
   }
  },
  {
   "cell_type": "code",
   "execution_count": 10,
   "metadata": {
    "collapsed": true
   },
   "outputs": [],
   "source": [
    "import warnings\n",
    "\n",
    "from datasets import load_dataset, load_metric\n",
    "import transformers\n",
    "import datasets\n",
    "import random\n",
    "import pandas as pd\n",
    "from IPython.display import display, HTML\n",
    "\n",
    "warnings.filterwarnings('ignore')"
   ]
  },
  {
   "cell_type": "code",
   "execution_count": 11,
   "outputs": [],
   "source": [
    "# selecting model checkpoint\n",
    "model_checkpoint = \"eugenesiow/bart-paraphrase\""
   ],
   "metadata": {
    "collapsed": false
   }
  },
  {
   "cell_type": "code",
   "execution_count": 12,
   "outputs": [],
   "source": [
    "# setting random seed for transformers library\n",
    "transformers.set_seed(42)\n",
    "\n",
    "# Load the BLUE metric\n",
    "metric = load_metric(\"sacrebleu\")"
   ],
   "metadata": {
    "collapsed": false
   }
  },
  {
   "cell_type": "code",
   "execution_count": null,
   "outputs": [],
   "source": [],
   "metadata": {
    "collapsed": false
   }
  },
  {
   "cell_type": "markdown",
   "source": [
    "### Dataset"
   ],
   "metadata": {
    "collapsed": false
   }
  },
  {
   "cell_type": "code",
   "execution_count": 16,
   "outputs": [],
   "source": [
    "train_df = pd.read_csv('../data/internal/train.csv')\n",
    "test_df = pd.read_csv('../data/internal/test.csv')\n",
    "val_df = pd.read_csv('../data/internal/validation.csv')"
   ],
   "metadata": {
    "collapsed": false
   }
  },
  {
   "cell_type": "code",
   "execution_count": 10,
   "outputs": [
    {
     "data": {
      "text/plain": "Downloading:   0%|          | 0.00/1.65k [00:00<?, ?B/s]",
      "application/vnd.jupyter.widget-view+json": {
       "version_major": 2,
       "version_minor": 0,
       "model_id": "f277c5b7dc984793a68f0aa05b12599a"
      }
     },
     "metadata": {},
     "output_type": "display_data"
    },
    {
     "data": {
      "text/plain": "Downloading:   0%|          | 0.00/1.51G [00:00<?, ?B/s]",
      "application/vnd.jupyter.widget-view+json": {
       "version_major": 2,
       "version_minor": 0,
       "model_id": "ace9c9d1ad16470d8b0abf064cca0881"
      }
     },
     "metadata": {},
     "output_type": "display_data"
    }
   ],
   "source": [
    "from transformers import BartForConditionalGeneration, BartTokenizer\n",
    "\n",
    "model = BartForConditionalGeneration.from_pretrained(model_checkpoint)"
   ],
   "metadata": {
    "collapsed": false
   }
  },
  {
   "cell_type": "code",
   "execution_count": 17,
   "outputs": [
    {
     "data": {
      "text/plain": "Downloading:   0%|          | 0.00/780k [00:00<?, ?B/s]",
      "application/vnd.jupyter.widget-view+json": {
       "version_major": 2,
       "version_minor": 0,
       "model_id": "67b0fb33867846ac9f80fcb2caa76882"
      }
     },
     "metadata": {},
     "output_type": "display_data"
    },
    {
     "data": {
      "text/plain": "Downloading:   0%|          | 0.00/446k [00:00<?, ?B/s]",
      "application/vnd.jupyter.widget-view+json": {
       "version_major": 2,
       "version_minor": 0,
       "model_id": "b3ab60bbd2754be28c77082b09ff5b60"
      }
     },
     "metadata": {},
     "output_type": "display_data"
    },
    {
     "data": {
      "text/plain": "Downloading:   0%|          | 0.00/239 [00:00<?, ?B/s]",
      "application/vnd.jupyter.widget-view+json": {
       "version_major": 2,
       "version_minor": 0,
       "model_id": "852a45d0df99433994e99b36cce69709"
      }
     },
     "metadata": {},
     "output_type": "display_data"
    },
    {
     "data": {
      "text/plain": "Downloading:   0%|          | 0.00/332 [00:00<?, ?B/s]",
      "application/vnd.jupyter.widget-view+json": {
       "version_major": 2,
       "version_minor": 0,
       "model_id": "ece1be7e3ed74a919d9167099cd7db92"
      }
     },
     "metadata": {},
     "output_type": "display_data"
    }
   ],
   "source": [
    "tokenizer = BartTokenizer.from_pretrained('eugenesiow/bart-paraphrase')"
   ],
   "metadata": {
    "collapsed": false
   }
  },
  {
   "cell_type": "code",
   "execution_count": 22,
   "outputs": [],
   "source": [
    "prefix = \"detoxify:\"\n",
    "source = \"reference\"\n",
    "target = \"translation\"\n",
    "max_input_length = 128\n",
    "max_target_length = 128\n",
    "batch_size = 32\n",
    "\n",
    "def preprocess_function(examples):\n",
    "    inputs = [prefix + ex for ex in examples[source]]\n",
    "    targets = [ex for ex in examples[target]]\n",
    "    model_inputs = tokenizer(inputs, max_length=max_input_length, truncation=True)\n",
    "\n",
    "    # Setup the tokenizer for targets\n",
    "    labels = tokenizer(targets, max_length=max_target_length, truncation=True)\n",
    "\n",
    "    model_inputs[\"labels\"] = labels[\"input_ids\"]\n",
    "    return model_inputs"
   ],
   "metadata": {
    "collapsed": false
   }
  },
  {
   "cell_type": "code",
   "execution_count": 23,
   "outputs": [
    {
     "data": {
      "text/plain": "{'input_ids': [[0, 17701, 4325, 4591, 35, 3684, 37, 18, 300, 16, 14, 33676, 219, 7040, 9, 39, 2], [0, 17701, 4325, 4591, 36856, 10836, 75, 47, 192, 6, 6507, 16, 5373, 2901, 37, 16670, 4, 2]], 'attention_mask': [[1, 1, 1, 1, 1, 1, 1, 1, 1, 1, 1, 1, 1, 1, 1, 1, 1], [1, 1, 1, 1, 1, 1, 1, 1, 1, 1, 1, 1, 1, 1, 1, 1, 1, 1]], 'labels': [[0, 700, 18, 300, 1085, 53, 39, 23523, 7040, 4, 2], [0, 113, 6968, 64, 75, 192, 6, 1308, 119, 18, 5373, 2901, 91, 24509, 4, 2]]}"
     },
     "execution_count": 23,
     "metadata": {},
     "output_type": "execute_result"
    }
   ],
   "source": [
    "preprocess_function(train_df[:2])"
   ],
   "metadata": {
    "collapsed": false
   }
  },
  {
   "cell_type": "code",
   "execution_count": 26,
   "outputs": [
    {
     "name": "stdout",
     "output_type": "stream",
     "text": [
      "Unexpected exception formatting exception. Falling back to standard exception\n"
     ]
    },
    {
     "name": "stderr",
     "output_type": "stream",
     "text": [
      "Traceback (most recent call last):\n",
      "  File \"/Users/damirnurtdinov/miniforge3/envs/env_pytorch/lib/python3.9/site-packages/transformers/utils/import_utils.py\", line 872, in _get_module\n",
      "  File \"/Users/damirnurtdinov/miniforge3/envs/env_pytorch/lib/python3.9/importlib/__init__.py\", line 127, in import_module\n",
      "    return _bootstrap._gcd_import(name[level:], package, level)\n",
      "  File \"<frozen importlib._bootstrap>\", line 1030, in _gcd_import\n",
      "  File \"<frozen importlib._bootstrap>\", line 1007, in _find_and_load\n",
      "  File \"<frozen importlib._bootstrap>\", line 986, in _find_and_load_unlocked\n",
      "  File \"<frozen importlib._bootstrap>\", line 680, in _load_unlocked\n",
      "  File \"<frozen importlib._bootstrap_external>\", line 850, in exec_module\n",
      "  File \"<frozen importlib._bootstrap>\", line 228, in _call_with_frames_removed\n",
      "  File \"/Users/damirnurtdinov/miniforge3/envs/env_pytorch/lib/python3.9/site-packages/transformers/models/auto/modeling_auto.py\", line 21, in <module>\n",
      "    from .auto_factory import _BaseAutoBackboneClass, _BaseAutoModelClass, _LazyAutoMapping, auto_class_update\n",
      "ImportError: cannot import name '_BaseAutoBackboneClass' from 'transformers.models.auto.auto_factory' (/Users/damirnurtdinov/miniforge3/envs/env_pytorch/lib/python3.9/site-packages/transformers/models/auto/auto_factory.py)\n",
      "\n",
      "The above exception was the direct cause of the following exception:\n",
      "\n",
      "Traceback (most recent call last):\n",
      "  File \"/Users/damirnurtdinov/miniforge3/envs/env_pytorch/lib/python3.9/site-packages/IPython/core/interactiveshell.py\", line 3508, in run_code\n",
      "    exec(code_obj, self.user_global_ns, self.user_ns)\n",
      "  File \"/var/folders/6j/s19nhfjj4pv14vny7nrq8lf00000gn/T/ipykernel_99107/2290519973.py\", line 1, in <module>\n",
      "    from transformers import AutoModelForSeq2SeqLM, DataCollatorForSeq2Seq, Seq2SeqTrainingArguments, Seq2SeqTrainer\n",
      "  File \"<frozen importlib._bootstrap>\", line 1055, in _handle_fromlist\n",
      "  File \"/Users/damirnurtdinov/miniforge3/envs/env_pytorch/lib/python3.9/site-packages/transformers/utils/import_utils.py\", line 863, in __getattr__\n",
      "    ```\n",
      "  File \"/Users/damirnurtdinov/miniforge3/envs/env_pytorch/lib/python3.9/site-packages/transformers/utils/import_utils.py\", line 862, in __getattr__\n",
      "    {0} requires the 🤗 Tokenizers library but it was not found in your environment. You can install it with:\n",
      "  File \"/Users/damirnurtdinov/miniforge3/envs/env_pytorch/lib/python3.9/site-packages/transformers/utils/import_utils.py\", line 874, in _get_module\n",
      "    # docstyle-ignore\n",
      "RuntimeError: Failed to import transformers.models.auto.modeling_auto because of the following error (look up to see its traceback):\n",
      "cannot import name '_BaseAutoBackboneClass' from 'transformers.models.auto.auto_factory' (/Users/damirnurtdinov/miniforge3/envs/env_pytorch/lib/python3.9/site-packages/transformers/models/auto/auto_factory.py)\n",
      "\n",
      "During handling of the above exception, another exception occurred:\n",
      "\n",
      "Traceback (most recent call last):\n",
      "  File \"/Users/damirnurtdinov/miniforge3/envs/env_pytorch/lib/python3.9/site-packages/IPython/core/interactiveshell.py\", line 2105, in showtraceback\n",
      "    stb = self.InteractiveTB.structured_traceback(\n",
      "  File \"/Users/damirnurtdinov/miniforge3/envs/env_pytorch/lib/python3.9/site-packages/IPython/core/ultratb.py\", line 1428, in structured_traceback\n",
      "    return FormattedTB.structured_traceback(\n",
      "  File \"/Users/damirnurtdinov/miniforge3/envs/env_pytorch/lib/python3.9/site-packages/IPython/core/ultratb.py\", line 1319, in structured_traceback\n",
      "    return VerboseTB.structured_traceback(\n",
      "  File \"/Users/damirnurtdinov/miniforge3/envs/env_pytorch/lib/python3.9/site-packages/IPython/core/ultratb.py\", line 1191, in structured_traceback\n",
      "    formatted_exceptions += self.format_exception_as_a_whole(etype, evalue, etb, lines_of_context,\n",
      "  File \"/Users/damirnurtdinov/miniforge3/envs/env_pytorch/lib/python3.9/site-packages/IPython/core/ultratb.py\", line 1087, in format_exception_as_a_whole\n",
      "    frames.append(self.format_record(record))\n",
      "  File \"/Users/damirnurtdinov/miniforge3/envs/env_pytorch/lib/python3.9/site-packages/IPython/core/ultratb.py\", line 969, in format_record\n",
      "    frame_info.lines, Colors, self.has_colors, lvals\n",
      "  File \"/Users/damirnurtdinov/miniforge3/envs/env_pytorch/lib/python3.9/site-packages/IPython/core/ultratb.py\", line 792, in lines\n",
      "    return self._sd.lines\n",
      "  File \"/Users/damirnurtdinov/miniforge3/envs/env_pytorch/lib/python3.9/site-packages/stack_data/utils.py\", line 144, in cached_property_wrapper\n",
      "    value = obj.__dict__[self.func.__name__] = self.func(obj)\n",
      "  File \"/Users/damirnurtdinov/miniforge3/envs/env_pytorch/lib/python3.9/site-packages/stack_data/core.py\", line 734, in lines\n",
      "    pieces = self.included_pieces\n",
      "  File \"/Users/damirnurtdinov/miniforge3/envs/env_pytorch/lib/python3.9/site-packages/stack_data/utils.py\", line 144, in cached_property_wrapper\n",
      "    value = obj.__dict__[self.func.__name__] = self.func(obj)\n",
      "  File \"/Users/damirnurtdinov/miniforge3/envs/env_pytorch/lib/python3.9/site-packages/stack_data/core.py\", line 681, in included_pieces\n",
      "    pos = scope_pieces.index(self.executing_piece)\n",
      "  File \"/Users/damirnurtdinov/miniforge3/envs/env_pytorch/lib/python3.9/site-packages/stack_data/utils.py\", line 144, in cached_property_wrapper\n",
      "    value = obj.__dict__[self.func.__name__] = self.func(obj)\n",
      "  File \"/Users/damirnurtdinov/miniforge3/envs/env_pytorch/lib/python3.9/site-packages/stack_data/core.py\", line 660, in executing_piece\n",
      "    return only(\n",
      "  File \"/Users/damirnurtdinov/miniforge3/envs/env_pytorch/lib/python3.9/site-packages/executing/executing.py\", line 190, in only\n",
      "    raise NotOneValueFound('Expected one value, found 0')\n",
      "executing.executing.NotOneValueFound: Expected one value, found 0\n"
     ]
    }
   ],
   "source": [
    "from transformers import AutoModelForSeq2SeqLM, DataCollatorForSeq2Seq, Seq2SeqTrainingArguments, Seq2SeqTrainer\n",
    "\n",
    "model_name = model_checkpoint.split(\"/\")[-1]\n",
    "\n",
    "args = Seq2SeqTrainingArguments(\n",
    "    f\"{model_name}-finetuned-{source}-to-{target}\",\n",
    "    evaluation_strategy = \"epoch\",\n",
    "    learning_rate=2e-5,\n",
    "    per_device_train_batch_size=batch_size,\n",
    "    per_device_eval_batch_size=batch_size,\n",
    "    weight_decay=0.01,\n",
    "    save_total_limit=3,\n",
    "    num_train_epochs=10,\n",
    "    predict_with_generate=True,\n",
    "    fp16=True,\n",
    "    report_to='tensorboard',\n",
    ")"
   ],
   "metadata": {
    "collapsed": false
   }
  },
  {
   "cell_type": "code",
   "execution_count": 28,
   "outputs": [
    {
     "name": "stdout",
     "output_type": "stream",
     "text": [
      "Unexpected exception formatting exception. Falling back to standard exception\n"
     ]
    },
    {
     "name": "stderr",
     "output_type": "stream",
     "text": [
      "Traceback (most recent call last):\n",
      "  File \"/Users/damirnurtdinov/miniforge3/envs/env_pytorch/lib/python3.9/site-packages/transformers/utils/import_utils.py\", line 872, in _get_module\n",
      "  File \"/Users/damirnurtdinov/miniforge3/envs/env_pytorch/lib/python3.9/importlib/__init__.py\", line 127, in import_module\n",
      "    return _bootstrap._gcd_import(name[level:], package, level)\n",
      "  File \"<frozen importlib._bootstrap>\", line 1030, in _gcd_import\n",
      "  File \"<frozen importlib._bootstrap>\", line 1007, in _find_and_load\n",
      "  File \"<frozen importlib._bootstrap>\", line 986, in _find_and_load_unlocked\n",
      "  File \"<frozen importlib._bootstrap>\", line 680, in _load_unlocked\n",
      "  File \"<frozen importlib._bootstrap_external>\", line 850, in exec_module\n",
      "  File \"<frozen importlib._bootstrap>\", line 228, in _call_with_frames_removed\n",
      "  File \"/Users/damirnurtdinov/miniforge3/envs/env_pytorch/lib/python3.9/site-packages/transformers/models/auto/modeling_auto.py\", line 21, in <module>\n",
      "    from .auto_factory import _BaseAutoBackboneClass, _BaseAutoModelClass, _LazyAutoMapping, auto_class_update\n",
      "ImportError: cannot import name '_BaseAutoBackboneClass' from 'transformers.models.auto.auto_factory' (/Users/damirnurtdinov/miniforge3/envs/env_pytorch/lib/python3.9/site-packages/transformers/models/auto/auto_factory.py)\n",
      "\n",
      "The above exception was the direct cause of the following exception:\n",
      "\n",
      "Traceback (most recent call last):\n",
      "  File \"/Users/damirnurtdinov/miniforge3/envs/env_pytorch/lib/python3.9/site-packages/IPython/core/interactiveshell.py\", line 3508, in run_code\n",
      "    exec(code_obj, self.user_global_ns, self.user_ns)\n",
      "  File \"/var/folders/6j/s19nhfjj4pv14vny7nrq8lf00000gn/T/ipykernel_99107/4111382839.py\", line 1, in <module>\n",
      "    from transformers import AutoModelForSeq2SeqLM, DataCollatorForSeq2Seq\n",
      "  File \"<frozen importlib._bootstrap>\", line 1055, in _handle_fromlist\n",
      "  File \"/Users/damirnurtdinov/miniforge3/envs/env_pytorch/lib/python3.9/site-packages/transformers/utils/import_utils.py\", line 863, in __getattr__\n",
      "    ```\n",
      "  File \"/Users/damirnurtdinov/miniforge3/envs/env_pytorch/lib/python3.9/site-packages/transformers/utils/import_utils.py\", line 862, in __getattr__\n",
      "    {0} requires the 🤗 Tokenizers library but it was not found in your environment. You can install it with:\n",
      "  File \"/Users/damirnurtdinov/miniforge3/envs/env_pytorch/lib/python3.9/site-packages/transformers/utils/import_utils.py\", line 874, in _get_module\n",
      "    # docstyle-ignore\n",
      "RuntimeError: Failed to import transformers.models.auto.modeling_auto because of the following error (look up to see its traceback):\n",
      "cannot import name '_BaseAutoBackboneClass' from 'transformers.models.auto.auto_factory' (/Users/damirnurtdinov/miniforge3/envs/env_pytorch/lib/python3.9/site-packages/transformers/models/auto/auto_factory.py)\n",
      "\n",
      "During handling of the above exception, another exception occurred:\n",
      "\n",
      "Traceback (most recent call last):\n",
      "  File \"/Users/damirnurtdinov/miniforge3/envs/env_pytorch/lib/python3.9/site-packages/IPython/core/interactiveshell.py\", line 2105, in showtraceback\n",
      "    stb = self.InteractiveTB.structured_traceback(\n",
      "  File \"/Users/damirnurtdinov/miniforge3/envs/env_pytorch/lib/python3.9/site-packages/IPython/core/ultratb.py\", line 1428, in structured_traceback\n",
      "    return FormattedTB.structured_traceback(\n",
      "  File \"/Users/damirnurtdinov/miniforge3/envs/env_pytorch/lib/python3.9/site-packages/IPython/core/ultratb.py\", line 1319, in structured_traceback\n",
      "    return VerboseTB.structured_traceback(\n",
      "  File \"/Users/damirnurtdinov/miniforge3/envs/env_pytorch/lib/python3.9/site-packages/IPython/core/ultratb.py\", line 1191, in structured_traceback\n",
      "    formatted_exceptions += self.format_exception_as_a_whole(etype, evalue, etb, lines_of_context,\n",
      "  File \"/Users/damirnurtdinov/miniforge3/envs/env_pytorch/lib/python3.9/site-packages/IPython/core/ultratb.py\", line 1087, in format_exception_as_a_whole\n",
      "    frames.append(self.format_record(record))\n",
      "  File \"/Users/damirnurtdinov/miniforge3/envs/env_pytorch/lib/python3.9/site-packages/IPython/core/ultratb.py\", line 969, in format_record\n",
      "    frame_info.lines, Colors, self.has_colors, lvals\n",
      "  File \"/Users/damirnurtdinov/miniforge3/envs/env_pytorch/lib/python3.9/site-packages/IPython/core/ultratb.py\", line 792, in lines\n",
      "    return self._sd.lines\n",
      "  File \"/Users/damirnurtdinov/miniforge3/envs/env_pytorch/lib/python3.9/site-packages/stack_data/utils.py\", line 144, in cached_property_wrapper\n",
      "    value = obj.__dict__[self.func.__name__] = self.func(obj)\n",
      "  File \"/Users/damirnurtdinov/miniforge3/envs/env_pytorch/lib/python3.9/site-packages/stack_data/core.py\", line 734, in lines\n",
      "    pieces = self.included_pieces\n",
      "  File \"/Users/damirnurtdinov/miniforge3/envs/env_pytorch/lib/python3.9/site-packages/stack_data/utils.py\", line 144, in cached_property_wrapper\n",
      "    value = obj.__dict__[self.func.__name__] = self.func(obj)\n",
      "  File \"/Users/damirnurtdinov/miniforge3/envs/env_pytorch/lib/python3.9/site-packages/stack_data/core.py\", line 681, in included_pieces\n",
      "    pos = scope_pieces.index(self.executing_piece)\n",
      "  File \"/Users/damirnurtdinov/miniforge3/envs/env_pytorch/lib/python3.9/site-packages/stack_data/utils.py\", line 144, in cached_property_wrapper\n",
      "    value = obj.__dict__[self.func.__name__] = self.func(obj)\n",
      "  File \"/Users/damirnurtdinov/miniforge3/envs/env_pytorch/lib/python3.9/site-packages/stack_data/core.py\", line 660, in executing_piece\n",
      "    return only(\n",
      "  File \"/Users/damirnurtdinov/miniforge3/envs/env_pytorch/lib/python3.9/site-packages/executing/executing.py\", line 190, in only\n",
      "    raise NotOneValueFound('Expected one value, found 0')\n",
      "executing.executing.NotOneValueFound: Expected one value, found 0\n"
     ]
    }
   ],
   "source": [
    "from transformers import AutoModelForSeq2SeqLM, DataCollatorForSeq2Seq\n",
    "data_collator = DataCollatorForSeq2Seq(tokenizer, model=model)"
   ],
   "metadata": {
    "collapsed": false
   }
  },
  {
   "cell_type": "code",
   "execution_count": null,
   "outputs": [],
   "source": [],
   "metadata": {
    "collapsed": false
   }
  }
 ],
 "metadata": {
  "kernelspec": {
   "display_name": "Python 3",
   "language": "python",
   "name": "python3"
  },
  "language_info": {
   "codemirror_mode": {
    "name": "ipython",
    "version": 2
   },
   "file_extension": ".py",
   "mimetype": "text/x-python",
   "name": "python",
   "nbconvert_exporter": "python",
   "pygments_lexer": "ipython2",
   "version": "2.7.6"
  }
 },
 "nbformat": 4,
 "nbformat_minor": 0
}
