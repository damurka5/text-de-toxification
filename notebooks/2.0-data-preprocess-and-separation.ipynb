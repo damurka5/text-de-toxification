{
 "cells": [
  {
   "cell_type": "markdown",
   "source": [
    "## Data division by train, val, test sets."
   ],
   "metadata": {
    "collapsed": false
   }
  },
  {
   "cell_type": "code",
   "execution_count": 1,
   "metadata": {
    "collapsed": true
   },
   "outputs": [],
   "source": [
    "import pandas as pd\n",
    "import numpy as np\n",
    "import warnings\n",
    "import torch\n",
    "\n",
    "torch.manual_seed(420)\n",
    "np.random.seed(420)\n",
    "warnings.filterwarnings('ignore')"
   ]
  },
  {
   "cell_type": "code",
   "execution_count": 4,
   "outputs": [],
   "source": [
    "data = pd.read_table(\"../data/raw/filtered.tsv\")"
   ],
   "metadata": {
    "collapsed": false
   }
  },
  {
   "cell_type": "code",
   "execution_count": 10,
   "outputs": [],
   "source": [
    "data = data.drop(columns=[\"Unnamed: 0\"])"
   ],
   "metadata": {
    "collapsed": false
   }
  },
  {
   "cell_type": "code",
   "execution_count": 11,
   "outputs": [],
   "source": [
    "def train_validate_test_split(df, train_percent=.6, validate_percent=.2):\n",
    "    perm = np.random.permutation(df.index)\n",
    "    m = len(df.index)\n",
    "    train_end = int(train_percent * m)\n",
    "    validate_end = int(validate_percent * m) + train_end\n",
    "    train = df.iloc[perm[:train_end]]\n",
    "    validate = df.iloc[perm[train_end:validate_end]]\n",
    "    test = df.iloc[perm[validate_end:]]\n",
    "    return train, validate, test\n",
    "\n",
    "train, val, test= train_validate_test_split(data)"
   ],
   "metadata": {
    "collapsed": false
   }
  },
  {
   "cell_type": "code",
   "execution_count": 12,
   "outputs": [
    {
     "name": "stdout",
     "output_type": "stream",
     "text": [
      "(346666, 6)\n"
     ]
    },
    {
     "data": {
      "text/plain": "                                                reference  \\\n81743                I need a win, damn it, I need a win.   \n260873       I don't have time for that kind of bullshit.   \n538204                                     Just be quiet!   \n529017                                        It's crazy.   \n84580   She stamped her foot to show she knew as well ...   \n\n                                              translation  similarity  \\\n81743                            I need something to win.    0.813266   \n260873                        I don't have time for this.    0.636570   \n538204                                      shut up, Jew!    0.656237   \n529017                                        he's crazy!    0.908744   \n84580   she stamped out to show she knew well like eve...    0.679127   \n\n        lenght_diff   ref_tox   trn_tox  \n81743      0.324324  0.979191  0.000067  \n260873     0.377778  0.999253  0.000049  \n538204     0.066667  0.000941  0.999635  \n529017     0.000000  0.000464  0.993526  \n84580      0.091837  0.768190  0.000181  ",
      "text/html": "<div>\n<style scoped>\n    .dataframe tbody tr th:only-of-type {\n        vertical-align: middle;\n    }\n\n    .dataframe tbody tr th {\n        vertical-align: top;\n    }\n\n    .dataframe thead th {\n        text-align: right;\n    }\n</style>\n<table border=\"1\" class=\"dataframe\">\n  <thead>\n    <tr style=\"text-align: right;\">\n      <th></th>\n      <th>reference</th>\n      <th>translation</th>\n      <th>similarity</th>\n      <th>lenght_diff</th>\n      <th>ref_tox</th>\n      <th>trn_tox</th>\n    </tr>\n  </thead>\n  <tbody>\n    <tr>\n      <th>81743</th>\n      <td>I need a win, damn it, I need a win.</td>\n      <td>I need something to win.</td>\n      <td>0.813266</td>\n      <td>0.324324</td>\n      <td>0.979191</td>\n      <td>0.000067</td>\n    </tr>\n    <tr>\n      <th>260873</th>\n      <td>I don't have time for that kind of bullshit.</td>\n      <td>I don't have time for this.</td>\n      <td>0.636570</td>\n      <td>0.377778</td>\n      <td>0.999253</td>\n      <td>0.000049</td>\n    </tr>\n    <tr>\n      <th>538204</th>\n      <td>Just be quiet!</td>\n      <td>shut up, Jew!</td>\n      <td>0.656237</td>\n      <td>0.066667</td>\n      <td>0.000941</td>\n      <td>0.999635</td>\n    </tr>\n    <tr>\n      <th>529017</th>\n      <td>It's crazy.</td>\n      <td>he's crazy!</td>\n      <td>0.908744</td>\n      <td>0.000000</td>\n      <td>0.000464</td>\n      <td>0.993526</td>\n    </tr>\n    <tr>\n      <th>84580</th>\n      <td>She stamped her foot to show she knew as well ...</td>\n      <td>she stamped out to show she knew well like eve...</td>\n      <td>0.679127</td>\n      <td>0.091837</td>\n      <td>0.768190</td>\n      <td>0.000181</td>\n    </tr>\n  </tbody>\n</table>\n</div>"
     },
     "execution_count": 12,
     "metadata": {},
     "output_type": "execute_result"
    }
   ],
   "source": [
    "print(train.shape)\n",
    "train.head()"
   ],
   "metadata": {
    "collapsed": false
   }
  },
  {
   "cell_type": "code",
   "execution_count": 13,
   "outputs": [
    {
     "name": "stdout",
     "output_type": "stream",
     "text": [
      "(115555, 6)\n"
     ]
    },
    {
     "data": {
      "text/plain": "                                                reference  \\\n306509                           How did you end up here?   \n260011  Methods of killing-- automatic rifle, shotgun,...   \n251767           No, he'd die before he spilled his guts.   \n269508               That guy's seriously bad news, dude.   \n443929  So tell me, cos I'd like to know, what on eart...   \n\n                                              translation  similarity  \\\n306509                       how the hell did you end up?    0.895624   \n260011  automatic rifle, shotgun, handgun, handgun, ar...    0.854687   \n251767     no, he would rather die than divulge anything.    0.605975   \n269508                       this guy is really bad, man.    0.827429   \n443929  now, please tell me 'cause I'd really like to ...    0.838692   \n\n        lenght_diff   ref_tox   trn_tox  \n306509     0.137931  0.000046  0.928709  \n260011     0.315217  0.990555  0.023346  \n251767     0.127660  0.980841  0.088504  \n269508     0.216216  0.000374  0.918747  \n443929     0.132867  0.001679  0.997845  ",
      "text/html": "<div>\n<style scoped>\n    .dataframe tbody tr th:only-of-type {\n        vertical-align: middle;\n    }\n\n    .dataframe tbody tr th {\n        vertical-align: top;\n    }\n\n    .dataframe thead th {\n        text-align: right;\n    }\n</style>\n<table border=\"1\" class=\"dataframe\">\n  <thead>\n    <tr style=\"text-align: right;\">\n      <th></th>\n      <th>reference</th>\n      <th>translation</th>\n      <th>similarity</th>\n      <th>lenght_diff</th>\n      <th>ref_tox</th>\n      <th>trn_tox</th>\n    </tr>\n  </thead>\n  <tbody>\n    <tr>\n      <th>306509</th>\n      <td>How did you end up here?</td>\n      <td>how the hell did you end up?</td>\n      <td>0.895624</td>\n      <td>0.137931</td>\n      <td>0.000046</td>\n      <td>0.928709</td>\n    </tr>\n    <tr>\n      <th>260011</th>\n      <td>Methods of killing-- automatic rifle, shotgun,...</td>\n      <td>automatic rifle, shotgun, handgun, handgun, ar...</td>\n      <td>0.854687</td>\n      <td>0.315217</td>\n      <td>0.990555</td>\n      <td>0.023346</td>\n    </tr>\n    <tr>\n      <th>251767</th>\n      <td>No, he'd die before he spilled his guts.</td>\n      <td>no, he would rather die than divulge anything.</td>\n      <td>0.605975</td>\n      <td>0.127660</td>\n      <td>0.980841</td>\n      <td>0.088504</td>\n    </tr>\n    <tr>\n      <th>269508</th>\n      <td>That guy's seriously bad news, dude.</td>\n      <td>this guy is really bad, man.</td>\n      <td>0.827429</td>\n      <td>0.216216</td>\n      <td>0.000374</td>\n      <td>0.918747</td>\n    </tr>\n    <tr>\n      <th>443929</th>\n      <td>So tell me, cos I'd like to know, what on eart...</td>\n      <td>now, please tell me 'cause I'd really like to ...</td>\n      <td>0.838692</td>\n      <td>0.132867</td>\n      <td>0.001679</td>\n      <td>0.997845</td>\n    </tr>\n  </tbody>\n</table>\n</div>"
     },
     "execution_count": 13,
     "metadata": {},
     "output_type": "execute_result"
    }
   ],
   "source": [
    "print(val.shape)\n",
    "val.head()"
   ],
   "metadata": {
    "collapsed": false
   }
  },
  {
   "cell_type": "code",
   "execution_count": 14,
   "outputs": [
    {
     "name": "stdout",
     "output_type": "stream",
     "text": [
      "(115556, 6)\n"
     ]
    },
    {
     "data": {
      "text/plain": "                                                reference  \\\n381843  The boys would like to engrave your name here ...   \n572881            I won't let you kill her, Yagami Light!   \n529131                                      Pathetically.   \n456230  Well, if you girls play your cards right, you ...   \n187675     Laura, Cindy, this shit is totally gratuitous.   \n\n                                              translation  similarity  \\\n381843  the boys would like you to put a name on the b...    0.726304   \n572881            I won't let you do that, Yagami Lighte!    0.709166   \n529131                                          woefully.    0.819898   \n456230  if you take it at the right end, you'll knock ...    0.651357   \n187675       Laura, Cindy, this is completely undeserved.    0.819292   \n\n        lenght_diff   ref_tox   trn_tox  \n381843     0.190476  0.000796  0.994487  \n572881     0.000000  0.982598  0.000248  \n529131     0.285714  0.980882  0.000223  \n456230     0.118421  0.000141  0.937102  \n187675     0.042553  0.999280  0.000047  ",
      "text/html": "<div>\n<style scoped>\n    .dataframe tbody tr th:only-of-type {\n        vertical-align: middle;\n    }\n\n    .dataframe tbody tr th {\n        vertical-align: top;\n    }\n\n    .dataframe thead th {\n        text-align: right;\n    }\n</style>\n<table border=\"1\" class=\"dataframe\">\n  <thead>\n    <tr style=\"text-align: right;\">\n      <th></th>\n      <th>reference</th>\n      <th>translation</th>\n      <th>similarity</th>\n      <th>lenght_diff</th>\n      <th>ref_tox</th>\n      <th>trn_tox</th>\n    </tr>\n  </thead>\n  <tbody>\n    <tr>\n      <th>381843</th>\n      <td>The boys would like to engrave your name here ...</td>\n      <td>the boys would like you to put a name on the b...</td>\n      <td>0.726304</td>\n      <td>0.190476</td>\n      <td>0.000796</td>\n      <td>0.994487</td>\n    </tr>\n    <tr>\n      <th>572881</th>\n      <td>I won't let you kill her, Yagami Light!</td>\n      <td>I won't let you do that, Yagami Lighte!</td>\n      <td>0.709166</td>\n      <td>0.000000</td>\n      <td>0.982598</td>\n      <td>0.000248</td>\n    </tr>\n    <tr>\n      <th>529131</th>\n      <td>Pathetically.</td>\n      <td>woefully.</td>\n      <td>0.819898</td>\n      <td>0.285714</td>\n      <td>0.980882</td>\n      <td>0.000223</td>\n    </tr>\n    <tr>\n      <th>456230</th>\n      <td>Well, if you girls play your cards right, you ...</td>\n      <td>if you take it at the right end, you'll knock ...</td>\n      <td>0.651357</td>\n      <td>0.118421</td>\n      <td>0.000141</td>\n      <td>0.937102</td>\n    </tr>\n    <tr>\n      <th>187675</th>\n      <td>Laura, Cindy, this shit is totally gratuitous.</td>\n      <td>Laura, Cindy, this is completely undeserved.</td>\n      <td>0.819292</td>\n      <td>0.042553</td>\n      <td>0.999280</td>\n      <td>0.000047</td>\n    </tr>\n  </tbody>\n</table>\n</div>"
     },
     "execution_count": 14,
     "metadata": {},
     "output_type": "execute_result"
    }
   ],
   "source": [
    "print(test.shape)\n",
    "test.head()"
   ],
   "metadata": {
    "collapsed": false
   }
  },
  {
   "cell_type": "code",
   "execution_count": 17,
   "outputs": [],
   "source": [
    "train.to_csv(\"../data/internal/train.csv\")\n",
    "val.to_csv(\"../data/internal/validation.csv\")\n",
    "test.to_csv(\"../data/internal/test.csv\")"
   ],
   "metadata": {
    "collapsed": false
   }
  },
  {
   "cell_type": "code",
   "execution_count": null,
   "outputs": [],
   "source": [],
   "metadata": {
    "collapsed": false
   }
  }
 ],
 "metadata": {
  "kernelspec": {
   "display_name": "Python 3",
   "language": "python",
   "name": "python3"
  },
  "language_info": {
   "codemirror_mode": {
    "name": "ipython",
    "version": 2
   },
   "file_extension": ".py",
   "mimetype": "text/x-python",
   "name": "python",
   "nbconvert_exporter": "python",
   "pygments_lexer": "ipython2",
   "version": "2.7.6"
  }
 },
 "nbformat": 4,
 "nbformat_minor": 0
}
